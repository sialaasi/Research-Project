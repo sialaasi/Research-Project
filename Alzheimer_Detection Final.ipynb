{
 "cells": [
  {
   "cell_type": "code",
   "execution_count": 1,
   "id": "8c70607e-5c50-427e-b729-d3d420bcd10b",
   "metadata": {},
   "outputs": [
    {
     "name": "stdout",
     "output_type": "stream",
     "text": [
      "Defaulting to user installation because normal site-packages is not writeable\n",
      "Requirement already satisfied: tensorflow in c:\\users\\aditya chakravarty\\appdata\\roaming\\python\\python312\\site-packages (2.18.0)\n",
      "Requirement already satisfied: tensorflow-intel==2.18.0 in c:\\users\\aditya chakravarty\\appdata\\roaming\\python\\python312\\site-packages (from tensorflow) (2.18.0)\n",
      "Requirement already satisfied: absl-py>=1.0.0 in c:\\users\\aditya chakravarty\\appdata\\roaming\\python\\python312\\site-packages (from tensorflow-intel==2.18.0->tensorflow) (2.1.0)\n",
      "Requirement already satisfied: astunparse>=1.6.0 in c:\\users\\aditya chakravarty\\appdata\\roaming\\python\\python312\\site-packages (from tensorflow-intel==2.18.0->tensorflow) (1.6.3)\n",
      "Requirement already satisfied: flatbuffers>=24.3.25 in c:\\users\\aditya chakravarty\\appdata\\roaming\\python\\python312\\site-packages (from tensorflow-intel==2.18.0->tensorflow) (24.3.25)\n",
      "Requirement already satisfied: gast!=0.5.0,!=0.5.1,!=0.5.2,>=0.2.1 in c:\\users\\aditya chakravarty\\appdata\\roaming\\python\\python312\\site-packages (from tensorflow-intel==2.18.0->tensorflow) (0.6.0)\n",
      "Requirement already satisfied: google-pasta>=0.1.1 in c:\\users\\aditya chakravarty\\appdata\\roaming\\python\\python312\\site-packages (from tensorflow-intel==2.18.0->tensorflow) (0.2.0)\n",
      "Requirement already satisfied: libclang>=13.0.0 in c:\\users\\aditya chakravarty\\appdata\\roaming\\python\\python312\\site-packages (from tensorflow-intel==2.18.0->tensorflow) (18.1.1)\n",
      "Requirement already satisfied: opt-einsum>=2.3.2 in c:\\users\\aditya chakravarty\\appdata\\roaming\\python\\python312\\site-packages (from tensorflow-intel==2.18.0->tensorflow) (3.4.0)\n",
      "Requirement already satisfied: packaging in c:\\programdata\\anaconda3\\lib\\site-packages (from tensorflow-intel==2.18.0->tensorflow) (23.2)\n",
      "Requirement already satisfied: protobuf!=4.21.0,!=4.21.1,!=4.21.2,!=4.21.3,!=4.21.4,!=4.21.5,<6.0.0dev,>=3.20.3 in c:\\programdata\\anaconda3\\lib\\site-packages (from tensorflow-intel==2.18.0->tensorflow) (3.20.3)\n",
      "Requirement already satisfied: requests<3,>=2.21.0 in c:\\programdata\\anaconda3\\lib\\site-packages (from tensorflow-intel==2.18.0->tensorflow) (2.32.2)\n",
      "Requirement already satisfied: setuptools in c:\\programdata\\anaconda3\\lib\\site-packages (from tensorflow-intel==2.18.0->tensorflow) (69.5.1)\n",
      "Requirement already satisfied: six>=1.12.0 in c:\\programdata\\anaconda3\\lib\\site-packages (from tensorflow-intel==2.18.0->tensorflow) (1.16.0)\n",
      "Requirement already satisfied: termcolor>=1.1.0 in c:\\users\\aditya chakravarty\\appdata\\roaming\\python\\python312\\site-packages (from tensorflow-intel==2.18.0->tensorflow) (2.5.0)\n",
      "Requirement already satisfied: typing-extensions>=3.6.6 in c:\\programdata\\anaconda3\\lib\\site-packages (from tensorflow-intel==2.18.0->tensorflow) (4.11.0)\n",
      "Requirement already satisfied: wrapt>=1.11.0 in c:\\programdata\\anaconda3\\lib\\site-packages (from tensorflow-intel==2.18.0->tensorflow) (1.14.1)\n",
      "Requirement already satisfied: grpcio<2.0,>=1.24.3 in c:\\users\\aditya chakravarty\\appdata\\roaming\\python\\python312\\site-packages (from tensorflow-intel==2.18.0->tensorflow) (1.68.0)\n",
      "Requirement already satisfied: tensorboard<2.19,>=2.18 in c:\\users\\aditya chakravarty\\appdata\\roaming\\python\\python312\\site-packages (from tensorflow-intel==2.18.0->tensorflow) (2.18.0)\n",
      "Requirement already satisfied: keras>=3.5.0 in c:\\users\\aditya chakravarty\\appdata\\roaming\\python\\python312\\site-packages (from tensorflow-intel==2.18.0->tensorflow) (3.6.0)\n",
      "Requirement already satisfied: numpy<2.1.0,>=1.26.0 in c:\\programdata\\anaconda3\\lib\\site-packages (from tensorflow-intel==2.18.0->tensorflow) (1.26.4)\n",
      "Requirement already satisfied: h5py>=3.11.0 in c:\\programdata\\anaconda3\\lib\\site-packages (from tensorflow-intel==2.18.0->tensorflow) (3.11.0)\n",
      "Requirement already satisfied: ml-dtypes<0.5.0,>=0.4.0 in c:\\users\\aditya chakravarty\\appdata\\roaming\\python\\python312\\site-packages (from tensorflow-intel==2.18.0->tensorflow) (0.4.1)\n",
      "Requirement already satisfied: wheel<1.0,>=0.23.0 in c:\\programdata\\anaconda3\\lib\\site-packages (from astunparse>=1.6.0->tensorflow-intel==2.18.0->tensorflow) (0.43.0)\n",
      "Requirement already satisfied: rich in c:\\programdata\\anaconda3\\lib\\site-packages (from keras>=3.5.0->tensorflow-intel==2.18.0->tensorflow) (13.3.5)\n",
      "Requirement already satisfied: namex in c:\\users\\aditya chakravarty\\appdata\\roaming\\python\\python312\\site-packages (from keras>=3.5.0->tensorflow-intel==2.18.0->tensorflow) (0.0.8)\n",
      "Requirement already satisfied: optree in c:\\users\\aditya chakravarty\\appdata\\roaming\\python\\python312\\site-packages (from keras>=3.5.0->tensorflow-intel==2.18.0->tensorflow) (0.13.1)\n",
      "Requirement already satisfied: charset-normalizer<4,>=2 in c:\\programdata\\anaconda3\\lib\\site-packages (from requests<3,>=2.21.0->tensorflow-intel==2.18.0->tensorflow) (2.0.4)\n",
      "Requirement already satisfied: idna<4,>=2.5 in c:\\programdata\\anaconda3\\lib\\site-packages (from requests<3,>=2.21.0->tensorflow-intel==2.18.0->tensorflow) (3.7)\n",
      "Requirement already satisfied: urllib3<3,>=1.21.1 in c:\\programdata\\anaconda3\\lib\\site-packages (from requests<3,>=2.21.0->tensorflow-intel==2.18.0->tensorflow) (2.2.2)\n",
      "Requirement already satisfied: certifi>=2017.4.17 in c:\\programdata\\anaconda3\\lib\\site-packages (from requests<3,>=2.21.0->tensorflow-intel==2.18.0->tensorflow) (2024.8.30)\n",
      "Requirement already satisfied: markdown>=2.6.8 in c:\\programdata\\anaconda3\\lib\\site-packages (from tensorboard<2.19,>=2.18->tensorflow-intel==2.18.0->tensorflow) (3.4.1)\n",
      "Requirement already satisfied: tensorboard-data-server<0.8.0,>=0.7.0 in c:\\users\\aditya chakravarty\\appdata\\roaming\\python\\python312\\site-packages (from tensorboard<2.19,>=2.18->tensorflow-intel==2.18.0->tensorflow) (0.7.2)\n",
      "Requirement already satisfied: werkzeug>=1.0.1 in c:\\programdata\\anaconda3\\lib\\site-packages (from tensorboard<2.19,>=2.18->tensorflow-intel==2.18.0->tensorflow) (3.0.3)\n",
      "Requirement already satisfied: MarkupSafe>=2.1.1 in c:\\programdata\\anaconda3\\lib\\site-packages (from werkzeug>=1.0.1->tensorboard<2.19,>=2.18->tensorflow-intel==2.18.0->tensorflow) (2.1.3)\n",
      "Requirement already satisfied: markdown-it-py<3.0.0,>=2.2.0 in c:\\programdata\\anaconda3\\lib\\site-packages (from rich->keras>=3.5.0->tensorflow-intel==2.18.0->tensorflow) (2.2.0)\n",
      "Requirement already satisfied: pygments<3.0.0,>=2.13.0 in c:\\programdata\\anaconda3\\lib\\site-packages (from rich->keras>=3.5.0->tensorflow-intel==2.18.0->tensorflow) (2.15.1)\n",
      "Requirement already satisfied: mdurl~=0.1 in c:\\programdata\\anaconda3\\lib\\site-packages (from markdown-it-py<3.0.0,>=2.2.0->rich->keras>=3.5.0->tensorflow-intel==2.18.0->tensorflow) (0.1.0)\n"
     ]
    }
   ],
   "source": [
    "!pip install tensorflow"
   ]
  },
  {
   "cell_type": "code",
   "execution_count": 2,
   "id": "e7ba3191-b4e2-4018-919e-80311f009d2c",
   "metadata": {},
   "outputs": [
    {
     "name": "stdout",
     "output_type": "stream",
     "text": [
      "Defaulting to user installation because normal site-packages is not writeable\n",
      "Requirement already satisfied: numpy in c:\\programdata\\anaconda3\\lib\\site-packages (1.26.4)\n"
     ]
    }
   ],
   "source": [
    "!pip install numpy"
   ]
  },
  {
   "cell_type": "code",
   "execution_count": 3,
   "id": "4a0161e8-bb0e-4fe9-9fb5-590376b07074",
   "metadata": {},
   "outputs": [
    {
     "name": "stdout",
     "output_type": "stream",
     "text": [
      "Defaulting to user installation because normal site-packages is not writeable\n",
      "Requirement already satisfied: pandas in c:\\programdata\\anaconda3\\lib\\site-packages (2.2.2)\n",
      "Requirement already satisfied: numpy>=1.26.0 in c:\\programdata\\anaconda3\\lib\\site-packages (from pandas) (1.26.4)\n",
      "Requirement already satisfied: python-dateutil>=2.8.2 in c:\\programdata\\anaconda3\\lib\\site-packages (from pandas) (2.9.0.post0)\n",
      "Requirement already satisfied: pytz>=2020.1 in c:\\programdata\\anaconda3\\lib\\site-packages (from pandas) (2024.1)\n",
      "Requirement already satisfied: tzdata>=2022.7 in c:\\programdata\\anaconda3\\lib\\site-packages (from pandas) (2023.3)\n",
      "Requirement already satisfied: six>=1.5 in c:\\programdata\\anaconda3\\lib\\site-packages (from python-dateutil>=2.8.2->pandas) (1.16.0)\n"
     ]
    }
   ],
   "source": [
    "!pip install pandas"
   ]
  },
  {
   "cell_type": "code",
   "execution_count": 4,
   "id": "2000463c-da47-4da1-b15f-c193c38b0e53",
   "metadata": {},
   "outputs": [
    {
     "name": "stdout",
     "output_type": "stream",
     "text": [
      "Defaulting to user installation because normal site-packages is not writeable\n",
      "Requirement already satisfied: matplotlib in c:\\programdata\\anaconda3\\lib\\site-packages (3.8.4)\n",
      "Requirement already satisfied: contourpy>=1.0.1 in c:\\programdata\\anaconda3\\lib\\site-packages (from matplotlib) (1.2.0)\n",
      "Requirement already satisfied: cycler>=0.10 in c:\\programdata\\anaconda3\\lib\\site-packages (from matplotlib) (0.11.0)\n",
      "Requirement already satisfied: fonttools>=4.22.0 in c:\\programdata\\anaconda3\\lib\\site-packages (from matplotlib) (4.51.0)\n",
      "Requirement already satisfied: kiwisolver>=1.3.1 in c:\\programdata\\anaconda3\\lib\\site-packages (from matplotlib) (1.4.4)\n",
      "Requirement already satisfied: numpy>=1.21 in c:\\programdata\\anaconda3\\lib\\site-packages (from matplotlib) (1.26.4)\n",
      "Requirement already satisfied: packaging>=20.0 in c:\\programdata\\anaconda3\\lib\\site-packages (from matplotlib) (23.2)\n",
      "Requirement already satisfied: pillow>=8 in c:\\programdata\\anaconda3\\lib\\site-packages (from matplotlib) (10.3.0)\n",
      "Requirement already satisfied: pyparsing>=2.3.1 in c:\\programdata\\anaconda3\\lib\\site-packages (from matplotlib) (3.0.9)\n",
      "Requirement already satisfied: python-dateutil>=2.7 in c:\\programdata\\anaconda3\\lib\\site-packages (from matplotlib) (2.9.0.post0)\n",
      "Requirement already satisfied: six>=1.5 in c:\\programdata\\anaconda3\\lib\\site-packages (from python-dateutil>=2.7->matplotlib) (1.16.0)\n"
     ]
    }
   ],
   "source": [
    "!pip install matplotlib"
   ]
  },
  {
   "cell_type": "code",
   "execution_count": 5,
   "id": "19bda27b-81e3-4bc5-bd49-b02bc1fa6f24",
   "metadata": {},
   "outputs": [
    {
     "name": "stdout",
     "output_type": "stream",
     "text": [
      "Defaulting to user installation because normal site-packages is not writeable\n",
      "Requirement already satisfied: seaborn in c:\\programdata\\anaconda3\\lib\\site-packages (0.13.2)\n",
      "Requirement already satisfied: numpy!=1.24.0,>=1.20 in c:\\programdata\\anaconda3\\lib\\site-packages (from seaborn) (1.26.4)\n",
      "Requirement already satisfied: pandas>=1.2 in c:\\programdata\\anaconda3\\lib\\site-packages (from seaborn) (2.2.2)\n",
      "Requirement already satisfied: matplotlib!=3.6.1,>=3.4 in c:\\programdata\\anaconda3\\lib\\site-packages (from seaborn) (3.8.4)\n",
      "Requirement already satisfied: contourpy>=1.0.1 in c:\\programdata\\anaconda3\\lib\\site-packages (from matplotlib!=3.6.1,>=3.4->seaborn) (1.2.0)\n",
      "Requirement already satisfied: cycler>=0.10 in c:\\programdata\\anaconda3\\lib\\site-packages (from matplotlib!=3.6.1,>=3.4->seaborn) (0.11.0)\n",
      "Requirement already satisfied: fonttools>=4.22.0 in c:\\programdata\\anaconda3\\lib\\site-packages (from matplotlib!=3.6.1,>=3.4->seaborn) (4.51.0)\n",
      "Requirement already satisfied: kiwisolver>=1.3.1 in c:\\programdata\\anaconda3\\lib\\site-packages (from matplotlib!=3.6.1,>=3.4->seaborn) (1.4.4)\n",
      "Requirement already satisfied: packaging>=20.0 in c:\\programdata\\anaconda3\\lib\\site-packages (from matplotlib!=3.6.1,>=3.4->seaborn) (23.2)\n",
      "Requirement already satisfied: pillow>=8 in c:\\programdata\\anaconda3\\lib\\site-packages (from matplotlib!=3.6.1,>=3.4->seaborn) (10.3.0)\n",
      "Requirement already satisfied: pyparsing>=2.3.1 in c:\\programdata\\anaconda3\\lib\\site-packages (from matplotlib!=3.6.1,>=3.4->seaborn) (3.0.9)\n",
      "Requirement already satisfied: python-dateutil>=2.7 in c:\\programdata\\anaconda3\\lib\\site-packages (from matplotlib!=3.6.1,>=3.4->seaborn) (2.9.0.post0)\n",
      "Requirement already satisfied: pytz>=2020.1 in c:\\programdata\\anaconda3\\lib\\site-packages (from pandas>=1.2->seaborn) (2024.1)\n",
      "Requirement already satisfied: tzdata>=2022.7 in c:\\programdata\\anaconda3\\lib\\site-packages (from pandas>=1.2->seaborn) (2023.3)\n",
      "Requirement already satisfied: six>=1.5 in c:\\programdata\\anaconda3\\lib\\site-packages (from python-dateutil>=2.7->matplotlib!=3.6.1,>=3.4->seaborn) (1.16.0)\n"
     ]
    }
   ],
   "source": [
    "!pip install seaborn"
   ]
  },
  {
   "cell_type": "code",
   "execution_count": 6,
   "id": "e9092aa3-64ac-469b-b088-06979166b5ee",
   "metadata": {},
   "outputs": [
    {
     "name": "stdout",
     "output_type": "stream",
     "text": [
      "Defaulting to user installation because normal site-packages is not writeable\n",
      "Requirement already satisfied: pillow in c:\\programdata\\anaconda3\\lib\\site-packages (10.3.0)\n"
     ]
    }
   ],
   "source": [
    "!pip install pillow"
   ]
  },
  {
   "cell_type": "code",
   "execution_count": 7,
   "id": "62a49b05-2805-4913-babb-b4b013f72fb1",
   "metadata": {},
   "outputs": [],
   "source": [
    "import os\n",
    "import numpy as np\n",
    "import pandas as pd\n",
    "import matplotlib.pyplot as plt\n",
    "import seaborn as sns\n",
    "from tensorflow.keras.preprocessing.image import ImageDataGenerator, load_img, img_to_array\n",
    "from tensorflow.keras.models import Sequential\n",
    "from tensorflow.keras.layers import Conv2D, MaxPooling2D, Flatten, Dense, Dropout, GRU, GlobalAveragePooling2D, TimeDistributed\n",
    "from tensorflow.keras.layers import LSTM\n",
    "from tensorflow.keras.callbacks import ModelCheckpoint, EarlyStopping, ReduceLROnPlateau\n",
    "from tensorflow.keras.optimizers import Adam\n",
    "from sklearn.metrics import classification_report, accuracy_score\n",
    "from PIL import Image, ImageTk\n",
    "import tkinter as tk\n",
    "from tkinter import filedialog, messagebox, PhotoImage"
   ]
  },
  {
   "cell_type": "code",
   "execution_count": 8,
   "id": "52ae05ce-d1f8-45c9-9d68-352732e7d208",
   "metadata": {},
   "outputs": [
    {
     "name": "stdout",
     "output_type": "stream",
     "text": [
      "Found 27188 images belonging to 4 classes.\n",
      "Found 6796 images belonging to 4 classes.\n"
     ]
    }
   ],
   "source": [
    "base_path = './Dataset/AugmentedAlzheimerDataset'\n",
    "\n",
    "datagen = ImageDataGenerator(\n",
    "    rescale=1.0 / 255,\n",
    "    rotation_range=30,\n",
    "    width_shift_range=0.2,\n",
    "    height_shift_range=0.2,\n",
    "    zoom_range=0.2,\n",
    "    horizontal_flip=True,\n",
    "    validation_split=0.2  # 20% validation data\n",
    ")\n",
    "\n",
    "train_gen = datagen.flow_from_directory(\n",
    "    base_path,\n",
    "    target_size=(64, 64),\n",
    "    batch_size=16,\n",
    "    class_mode='categorical',\n",
    "    subset='training'\n",
    ")\n",
    "\n",
    "val_gen = datagen.flow_from_directory(\n",
    "    base_path,\n",
    "    target_size=(64, 64),\n",
    "    batch_size=16,\n",
    "    class_mode='categorical',\n",
    "    subset='validation'\n",
    ")"
   ]
  },
  {
   "cell_type": "code",
   "execution_count": 9,
   "id": "1ecfde35-c3a8-4415-89c4-6fb07e99a1d3",
   "metadata": {},
   "outputs": [],
   "source": [
    "def build_cnn():\n",
    "    cnn_model = Sequential([\n",
    "        Conv2D(32, (3, 3), activation='relu', input_shape=(64, 64, 3)),\n",
    "        MaxPooling2D((2, 2)),\n",
    "        Conv2D(64, (3, 3), activation='relu'),\n",
    "        MaxPooling2D((2, 2)),\n",
    "        Flatten(),\n",
    "        Dense(128, activation='relu'),\n",
    "        Dropout(0.5),\n",
    "        Dense(4, activation='softmax')  # 4 classes\n",
    "    ])\n",
    "\n",
    "    cnn_model.compile(optimizer=Adam(learning_rate=0.0001), loss='categorical_crossentropy', metrics=['accuracy'])\n",
    "    return cnn_model"
   ]
  },
  {
   "cell_type": "code",
   "execution_count": 17,
   "id": "6ad4b659-ae08-4c6e-8b47-dd5b6ba83e5d",
   "metadata": {},
   "outputs": [],
   "source": [
    "from tensorflow.keras.applications import ResNet50\n",
    "\n",
    "def build_resnet():\n",
    "    base_model = ResNet50(include_top=False, input_shape=(64, 64, 3), weights='imagenet')\n",
    "    model = Sequential([\n",
    "        base_model,\n",
    "        GlobalAveragePooling2D(),\n",
    "        Dropout(0.3),\n",
    "        Dense(128, activation='relu'),\n",
    "        Dense(4, activation='softmax')  # 4 classes\n",
    "    ])\n",
    "\n",
    "    model.compile(optimizer=Adam(learning_rate=0.0001), loss='categorical_crossentropy', metrics=['accuracy'])\n",
    "    return model"
   ]
  },
  {
   "cell_type": "code",
   "execution_count": 21,
   "id": "069bbc4c-efe9-4a3c-acfd-11fe74f40a5f",
   "metadata": {},
   "outputs": [],
   "source": [
    "checkpoint_cnn = ModelCheckpoint('cnn_model.keras', monitor='val_accuracy', save_best_only=True, mode='max')\n",
    "checkpoint_resnet = ModelCheckpoint('resnet_model.keras', monitor='val_accuracy', save_best_only=True, mode='max')\n",
    "early_stopping = EarlyStopping(monitor='val_accuracy', patience=5, restore_best_weights=True)\n",
    "reduce_lr = ReduceLROnPlateau(monitor='val_loss', factor=0.2, patience=3, min_lr=1e-6)\n"
   ]
  },
  {
   "cell_type": "code",
   "execution_count": 13,
   "id": "56a68e84-f1b1-4517-acb8-9e8c3951905f",
   "metadata": {},
   "outputs": [
    {
     "name": "stdout",
     "output_type": "stream",
     "text": [
      "Training CNN Model...\n",
      "Epoch 1/20\n",
      "\u001b[1m1700/1700\u001b[0m \u001b[32m━━━━━━━━━━━━━━━━━━━━\u001b[0m\u001b[37m\u001b[0m \u001b[1m5416s\u001b[0m 3s/step - accuracy: 0.3139 - loss: 1.3553 - val_accuracy: 0.3977 - val_loss: 1.2488 - learning_rate: 1.0000e-04\n",
      "Epoch 2/20\n",
      "\u001b[1m1700/1700\u001b[0m \u001b[32m━━━━━━━━━━━━━━━━━━━━\u001b[0m\u001b[37m\u001b[0m \u001b[1m431s\u001b[0m 254ms/step - accuracy: 0.3873 - loss: 1.2647 - val_accuracy: 0.4155 - val_loss: 1.2166 - learning_rate: 1.0000e-04\n",
      "Epoch 3/20\n",
      "\u001b[1m1700/1700\u001b[0m \u001b[32m━━━━━━━━━━━━━━━━━━━━\u001b[0m\u001b[37m\u001b[0m \u001b[1m433s\u001b[0m 255ms/step - accuracy: 0.3974 - loss: 1.2433 - val_accuracy: 0.4064 - val_loss: 1.2111 - learning_rate: 1.0000e-04\n",
      "Epoch 4/20\n",
      "\u001b[1m1700/1700\u001b[0m \u001b[32m━━━━━━━━━━━━━━━━━━━━\u001b[0m\u001b[37m\u001b[0m \u001b[1m418s\u001b[0m 246ms/step - accuracy: 0.4132 - loss: 1.2287 - val_accuracy: 0.4172 - val_loss: 1.2065 - learning_rate: 1.0000e-04\n",
      "Epoch 5/20\n",
      "\u001b[1m1700/1700\u001b[0m \u001b[32m━━━━━━━━━━━━━━━━━━━━\u001b[0m\u001b[37m\u001b[0m \u001b[1m391s\u001b[0m 216ms/step - accuracy: 0.4108 - loss: 1.2207 - val_accuracy: 0.3961 - val_loss: 1.2333 - learning_rate: 1.0000e-04\n",
      "Epoch 6/20\n",
      "\u001b[1m1700/1700\u001b[0m \u001b[32m━━━━━━━━━━━━━━━━━━━━\u001b[0m\u001b[37m\u001b[0m \u001b[1m280s\u001b[0m 165ms/step - accuracy: 0.4200 - loss: 1.2098 - val_accuracy: 0.4395 - val_loss: 1.1699 - learning_rate: 1.0000e-04\n",
      "Epoch 7/20\n",
      "\u001b[1m1700/1700\u001b[0m \u001b[32m━━━━━━━━━━━━━━━━━━━━\u001b[0m\u001b[37m\u001b[0m \u001b[1m275s\u001b[0m 162ms/step - accuracy: 0.4302 - loss: 1.1974 - val_accuracy: 0.4559 - val_loss: 1.1575 - learning_rate: 1.0000e-04\n",
      "Epoch 8/20\n",
      "\u001b[1m1700/1700\u001b[0m \u001b[32m━━━━━━━━━━━━━━━━━━━━\u001b[0m\u001b[37m\u001b[0m \u001b[1m311s\u001b[0m 183ms/step - accuracy: 0.4307 - loss: 1.1888 - val_accuracy: 0.4592 - val_loss: 1.1386 - learning_rate: 1.0000e-04\n",
      "Epoch 9/20\n",
      "\u001b[1m1700/1700\u001b[0m \u001b[32m━━━━━━━━━━━━━━━━━━━━\u001b[0m\u001b[37m\u001b[0m \u001b[1m290s\u001b[0m 171ms/step - accuracy: 0.4448 - loss: 1.1655 - val_accuracy: 0.4575 - val_loss: 1.1375 - learning_rate: 1.0000e-04\n",
      "Epoch 10/20\n",
      "\u001b[1m1700/1700\u001b[0m \u001b[32m━━━━━━━━━━━━━━━━━━━━\u001b[0m\u001b[37m\u001b[0m \u001b[1m212s\u001b[0m 125ms/step - accuracy: 0.4498 - loss: 1.1609 - val_accuracy: 0.4875 - val_loss: 1.1162 - learning_rate: 1.0000e-04\n",
      "Epoch 11/20\n",
      "\u001b[1m1700/1700\u001b[0m \u001b[32m━━━━━━━━━━━━━━━━━━━━\u001b[0m\u001b[37m\u001b[0m \u001b[1m262s\u001b[0m 154ms/step - accuracy: 0.4544 - loss: 1.1545 - val_accuracy: 0.4891 - val_loss: 1.0978 - learning_rate: 1.0000e-04\n",
      "Epoch 12/20\n",
      "\u001b[1m1700/1700\u001b[0m \u001b[32m━━━━━━━━━━━━━━━━━━━━\u001b[0m\u001b[37m\u001b[0m \u001b[1m310s\u001b[0m 183ms/step - accuracy: 0.4699 - loss: 1.1349 - val_accuracy: 0.5047 - val_loss: 1.0910 - learning_rate: 1.0000e-04\n",
      "Epoch 13/20\n",
      "\u001b[1m1700/1700\u001b[0m \u001b[32m━━━━━━━━━━━━━━━━━━━━\u001b[0m\u001b[37m\u001b[0m \u001b[1m327s\u001b[0m 192ms/step - accuracy: 0.4743 - loss: 1.1264 - val_accuracy: 0.5124 - val_loss: 1.0708 - learning_rate: 1.0000e-04\n",
      "Epoch 14/20\n",
      "\u001b[1m1700/1700\u001b[0m \u001b[32m━━━━━━━━━━━━━━━━━━━━\u001b[0m\u001b[37m\u001b[0m \u001b[1m371s\u001b[0m 218ms/step - accuracy: 0.4871 - loss: 1.1110 - val_accuracy: 0.5119 - val_loss: 1.0532 - learning_rate: 1.0000e-04\n",
      "Epoch 15/20\n",
      "\u001b[1m1700/1700\u001b[0m \u001b[32m━━━━━━━━━━━━━━━━━━━━\u001b[0m\u001b[37m\u001b[0m \u001b[1m374s\u001b[0m 220ms/step - accuracy: 0.4920 - loss: 1.0961 - val_accuracy: 0.4768 - val_loss: 1.0838 - learning_rate: 1.0000e-04\n",
      "Epoch 16/20\n",
      "\u001b[1m1700/1700\u001b[0m \u001b[32m━━━━━━━━━━━━━━━━━━━━\u001b[0m\u001b[37m\u001b[0m \u001b[1m368s\u001b[0m 216ms/step - accuracy: 0.4979 - loss: 1.0833 - val_accuracy: 0.5393 - val_loss: 1.0308 - learning_rate: 1.0000e-04\n",
      "Epoch 17/20\n",
      "\u001b[1m1700/1700\u001b[0m \u001b[32m━━━━━━━━━━━━━━━━━━━━\u001b[0m\u001b[37m\u001b[0m \u001b[1m380s\u001b[0m 224ms/step - accuracy: 0.5064 - loss: 1.0727 - val_accuracy: 0.5291 - val_loss: 1.0155 - learning_rate: 1.0000e-04\n",
      "Epoch 18/20\n",
      "\u001b[1m1700/1700\u001b[0m \u001b[32m━━━━━━━━━━━━━━━━━━━━\u001b[0m\u001b[37m\u001b[0m \u001b[1m328s\u001b[0m 193ms/step - accuracy: 0.5069 - loss: 1.0660 - val_accuracy: 0.5368 - val_loss: 1.0122 - learning_rate: 1.0000e-04\n",
      "Epoch 19/20\n",
      "\u001b[1m1700/1700\u001b[0m \u001b[32m━━━━━━━━━━━━━━━━━━━━\u001b[0m\u001b[37m\u001b[0m \u001b[1m227s\u001b[0m 134ms/step - accuracy: 0.5220 - loss: 1.0491 - val_accuracy: 0.5577 - val_loss: 0.9880 - learning_rate: 1.0000e-04\n",
      "Epoch 20/20\n",
      "\u001b[1m1700/1700\u001b[0m \u001b[32m━━━━━━━━━━━━━━━━━━━━\u001b[0m\u001b[37m\u001b[0m \u001b[1m147s\u001b[0m 87ms/step - accuracy: 0.5318 - loss: 1.0289 - val_accuracy: 0.5527 - val_loss: 0.9760 - learning_rate: 1.0000e-04\n",
      "Training RNN Model...\n",
      "Epoch 1/20\n"
     ]
    },
    {
     "ename": "ValueError",
     "evalue": "Exception encountered when calling Sequential.call().\n\n\u001b[1mInvalid input shape for input Tensor(\"data:0\", shape=(None, 64, 64, 3), dtype=float32). Expected shape (None, 3, 64, 64, 3), but input has incompatible shape (None, 64, 64, 3)\u001b[0m\n\nArguments received by Sequential.call():\n  • inputs=tf.Tensor(shape=(None, 64, 64, 3), dtype=float32)\n  • training=True\n  • mask=None",
     "output_type": "error",
     "traceback": [
      "\u001b[1;31m---------------------------------------------------------------------------\u001b[0m",
      "\u001b[1;31mValueError\u001b[0m                                Traceback (most recent call last)",
      "Cell \u001b[1;32mIn[13], line 21\u001b[0m\n\u001b[0;32m     19\u001b[0m \u001b[38;5;28mprint\u001b[39m(\u001b[38;5;124m\"\u001b[39m\u001b[38;5;124mTraining RNN Model...\u001b[39m\u001b[38;5;124m\"\u001b[39m)\n\u001b[0;32m     20\u001b[0m rnn_model \u001b[38;5;241m=\u001b[39m build_rnn()\n\u001b[1;32m---> 21\u001b[0m history_rnn \u001b[38;5;241m=\u001b[39m rnn_model\u001b[38;5;241m.\u001b[39mfit(\n\u001b[0;32m     22\u001b[0m     train_gen,\n\u001b[0;32m     23\u001b[0m     validation_data\u001b[38;5;241m=\u001b[39mval_gen,\n\u001b[0;32m     24\u001b[0m     epochs\u001b[38;5;241m=\u001b[39m\u001b[38;5;241m20\u001b[39m,\n\u001b[0;32m     25\u001b[0m     callbacks\u001b[38;5;241m=\u001b[39m[checkpoint_rnn, early_stopping, reduce_lr],\n\u001b[0;32m     26\u001b[0m     verbose\u001b[38;5;241m=\u001b[39m\u001b[38;5;241m1\u001b[39m\n\u001b[0;32m     27\u001b[0m )\n",
      "File \u001b[1;32m~\\AppData\\Roaming\\Python\\Python312\\site-packages\\keras\\src\\utils\\traceback_utils.py:122\u001b[0m, in \u001b[0;36mfilter_traceback.<locals>.error_handler\u001b[1;34m(*args, **kwargs)\u001b[0m\n\u001b[0;32m    119\u001b[0m     filtered_tb \u001b[38;5;241m=\u001b[39m _process_traceback_frames(e\u001b[38;5;241m.\u001b[39m__traceback__)\n\u001b[0;32m    120\u001b[0m     \u001b[38;5;66;03m# To get the full stack trace, call:\u001b[39;00m\n\u001b[0;32m    121\u001b[0m     \u001b[38;5;66;03m# `keras.config.disable_traceback_filtering()`\u001b[39;00m\n\u001b[1;32m--> 122\u001b[0m     \u001b[38;5;28;01mraise\u001b[39;00m e\u001b[38;5;241m.\u001b[39mwith_traceback(filtered_tb) \u001b[38;5;28;01mfrom\u001b[39;00m \u001b[38;5;28;01mNone\u001b[39;00m\n\u001b[0;32m    123\u001b[0m \u001b[38;5;28;01mfinally\u001b[39;00m:\n\u001b[0;32m    124\u001b[0m     \u001b[38;5;28;01mdel\u001b[39;00m filtered_tb\n",
      "File \u001b[1;32m~\\AppData\\Roaming\\Python\\Python312\\site-packages\\keras\\src\\models\\functional.py:264\u001b[0m, in \u001b[0;36mFunctional._adjust_input_rank\u001b[1;34m(self, flat_inputs)\u001b[0m\n\u001b[0;32m    262\u001b[0m             adjusted\u001b[38;5;241m.\u001b[39mappend(ops\u001b[38;5;241m.\u001b[39mexpand_dims(x, axis\u001b[38;5;241m=\u001b[39m\u001b[38;5;241m-\u001b[39m\u001b[38;5;241m1\u001b[39m))\n\u001b[0;32m    263\u001b[0m             \u001b[38;5;28;01mcontinue\u001b[39;00m\n\u001b[1;32m--> 264\u001b[0m     \u001b[38;5;28;01mraise\u001b[39;00m \u001b[38;5;167;01mValueError\u001b[39;00m(\n\u001b[0;32m    265\u001b[0m         \u001b[38;5;124mf\u001b[39m\u001b[38;5;124m\"\u001b[39m\u001b[38;5;124mInvalid input shape for input \u001b[39m\u001b[38;5;132;01m{\u001b[39;00mx\u001b[38;5;132;01m}\u001b[39;00m\u001b[38;5;124m. Expected shape \u001b[39m\u001b[38;5;124m\"\u001b[39m\n\u001b[0;32m    266\u001b[0m         \u001b[38;5;124mf\u001b[39m\u001b[38;5;124m\"\u001b[39m\u001b[38;5;132;01m{\u001b[39;00mref_shape\u001b[38;5;132;01m}\u001b[39;00m\u001b[38;5;124m, but input has incompatible shape \u001b[39m\u001b[38;5;132;01m{\u001b[39;00mx\u001b[38;5;241m.\u001b[39mshape\u001b[38;5;132;01m}\u001b[39;00m\u001b[38;5;124m\"\u001b[39m\n\u001b[0;32m    267\u001b[0m     )\n\u001b[0;32m    268\u001b[0m \u001b[38;5;66;03m# Add back metadata.\u001b[39;00m\n\u001b[0;32m    269\u001b[0m \u001b[38;5;28;01mfor\u001b[39;00m i \u001b[38;5;129;01min\u001b[39;00m \u001b[38;5;28mrange\u001b[39m(\u001b[38;5;28mlen\u001b[39m(flat_inputs)):\n",
      "\u001b[1;31mValueError\u001b[0m: Exception encountered when calling Sequential.call().\n\n\u001b[1mInvalid input shape for input Tensor(\"data:0\", shape=(None, 64, 64, 3), dtype=float32). Expected shape (None, 3, 64, 64, 3), but input has incompatible shape (None, 64, 64, 3)\u001b[0m\n\nArguments received by Sequential.call():\n  • inputs=tf.Tensor(shape=(None, 64, 64, 3), dtype=float32)\n  • training=True\n  • mask=None"
     ]
    }
   ],
   "source": [
    "# Callbacks\n",
    "checkpoint_cnn = ModelCheckpoint('cnn_model.keras', monitor='val_accuracy', save_best_only=True, mode='max')\n",
    "checkpoint_rnn = ModelCheckpoint('rnn_model.keras', monitor='val_accuracy', save_best_only=True, mode='max')\n",
    "early_stopping = EarlyStopping(monitor='val_accuracy', patience=5, restore_best_weights=True)\n",
    "reduce_lr = ReduceLROnPlateau(monitor='val_loss', factor=0.2, patience=3, min_lr=1e-6)\n",
    "\n",
    "# Train CNN Model\n",
    "print(\"Training CNN Model...\")\n",
    "cnn_model = build_cnn()\n",
    "history_cnn = cnn_model.fit(\n",
    "    train_gen,\n",
    "    validation_data=val_gen,\n",
    "    epochs=20,\n",
    "    callbacks=[checkpoint_cnn, early_stopping, reduce_lr],\n",
    "    verbose=1\n",
    ")"
   ]
  },
  {
   "cell_type": "code",
   "execution_count": 23,
   "id": "d0ba03f8-3276-4e85-8bbf-a1be2a2fc856",
   "metadata": {},
   "outputs": [
    {
     "name": "stdout",
     "output_type": "stream",
     "text": [
      "Training ResNet Model...\n",
      "Epoch 1/20\n",
      "\u001b[1m1700/1700\u001b[0m \u001b[32m━━━━━━━━━━━━━━━━━━━━\u001b[0m\u001b[37m\u001b[0m \u001b[1m1501s\u001b[0m 838ms/step - accuracy: 0.4077 - loss: 1.3359 - val_accuracy: 0.6109 - val_loss: 0.8366 - learning_rate: 1.0000e-04\n",
      "Epoch 2/20\n",
      "\u001b[1m1700/1700\u001b[0m \u001b[32m━━━━━━━━━━━━━━━━━━━━\u001b[0m\u001b[37m\u001b[0m \u001b[1m1419s\u001b[0m 835ms/step - accuracy: 0.6292 - loss: 0.8151 - val_accuracy: 0.6853 - val_loss: 0.6935 - learning_rate: 1.0000e-04\n",
      "Epoch 3/20\n",
      "\u001b[1m1700/1700\u001b[0m \u001b[32m━━━━━━━━━━━━━━━━━━━━\u001b[0m\u001b[37m\u001b[0m \u001b[1m1420s\u001b[0m 835ms/step - accuracy: 0.6854 - loss: 0.7019 - val_accuracy: 0.7145 - val_loss: 0.6399 - learning_rate: 1.0000e-04\n",
      "Epoch 4/20\n",
      "\u001b[1m1700/1700\u001b[0m \u001b[32m━━━━━━━━━━━━━━━━━━━━\u001b[0m\u001b[37m\u001b[0m \u001b[1m1430s\u001b[0m 841ms/step - accuracy: 0.7215 - loss: 0.6244 - val_accuracy: 0.7145 - val_loss: 0.6158 - learning_rate: 1.0000e-04\n",
      "Epoch 5/20\n",
      "\u001b[1m1700/1700\u001b[0m \u001b[32m━━━━━━━━━━━━━━━━━━━━\u001b[0m\u001b[37m\u001b[0m \u001b[1m1405s\u001b[0m 827ms/step - accuracy: 0.7600 - loss: 0.5584 - val_accuracy: 0.7306 - val_loss: 0.8265 - learning_rate: 1.0000e-04\n",
      "Epoch 6/20\n",
      "\u001b[1m1700/1700\u001b[0m \u001b[32m━━━━━━━━━━━━━━━━━━━━\u001b[0m\u001b[37m\u001b[0m \u001b[1m1414s\u001b[0m 831ms/step - accuracy: 0.7882 - loss: 0.5074 - val_accuracy: 0.7977 - val_loss: 0.4920 - learning_rate: 1.0000e-04\n",
      "Epoch 7/20\n",
      "\u001b[1m1700/1700\u001b[0m \u001b[32m━━━━━━━━━━━━━━━━━━━━\u001b[0m\u001b[37m\u001b[0m \u001b[1m1407s\u001b[0m 828ms/step - accuracy: 0.8170 - loss: 0.4414 - val_accuracy: 0.7522 - val_loss: 0.6711 - learning_rate: 1.0000e-04\n",
      "Epoch 8/20\n",
      "\u001b[1m1700/1700\u001b[0m \u001b[32m━━━━━━━━━━━━━━━━━━━━\u001b[0m\u001b[37m\u001b[0m \u001b[1m1407s\u001b[0m 827ms/step - accuracy: 0.8271 - loss: 0.4146 - val_accuracy: 0.8414 - val_loss: 0.3796 - learning_rate: 1.0000e-04\n",
      "Epoch 9/20\n",
      "\u001b[1m1700/1700\u001b[0m \u001b[32m━━━━━━━━━━━━━━━━━━━━\u001b[0m\u001b[37m\u001b[0m \u001b[1m1395s\u001b[0m 821ms/step - accuracy: 0.8506 - loss: 0.3602 - val_accuracy: 0.8708 - val_loss: 0.3135 - learning_rate: 1.0000e-04\n",
      "Epoch 10/20\n",
      "\u001b[1m1700/1700\u001b[0m \u001b[32m━━━━━━━━━━━━━━━━━━━━\u001b[0m\u001b[37m\u001b[0m \u001b[1m1395s\u001b[0m 820ms/step - accuracy: 0.8663 - loss: 0.3221 - val_accuracy: 0.8554 - val_loss: 0.3655 - learning_rate: 1.0000e-04\n",
      "Epoch 11/20\n",
      "\u001b[1m1700/1700\u001b[0m \u001b[32m━━━━━━━━━━━━━━━━━━━━\u001b[0m\u001b[37m\u001b[0m \u001b[1m1398s\u001b[0m 822ms/step - accuracy: 0.8852 - loss: 0.2865 - val_accuracy: 0.7853 - val_loss: 0.5598 - learning_rate: 1.0000e-04\n",
      "Epoch 12/20\n",
      "\u001b[1m1700/1700\u001b[0m \u001b[32m━━━━━━━━━━━━━━━━━━━━\u001b[0m\u001b[37m\u001b[0m \u001b[1m1391s\u001b[0m 818ms/step - accuracy: 0.8962 - loss: 0.2638 - val_accuracy: 0.8989 - val_loss: 0.2504 - learning_rate: 1.0000e-04\n",
      "Epoch 13/20\n",
      "\u001b[1m1700/1700\u001b[0m \u001b[32m━━━━━━━━━━━━━━━━━━━━\u001b[0m\u001b[37m\u001b[0m \u001b[1m1389s\u001b[0m 817ms/step - accuracy: 0.9053 - loss: 0.2429 - val_accuracy: 0.8796 - val_loss: 0.3051 - learning_rate: 1.0000e-04\n",
      "Epoch 14/20\n",
      "\u001b[1m1700/1700\u001b[0m \u001b[32m━━━━━━━━━━━━━━━━━━━━\u001b[0m\u001b[37m\u001b[0m \u001b[1m1389s\u001b[0m 817ms/step - accuracy: 0.9178 - loss: 0.2155 - val_accuracy: 0.9023 - val_loss: 0.2463 - learning_rate: 1.0000e-04\n",
      "Epoch 15/20\n",
      "\u001b[1m1700/1700\u001b[0m \u001b[32m━━━━━━━━━━━━━━━━━━━━\u001b[0m\u001b[37m\u001b[0m \u001b[1m1379s\u001b[0m 811ms/step - accuracy: 0.9191 - loss: 0.2106 - val_accuracy: 0.8979 - val_loss: 0.2678 - learning_rate: 1.0000e-04\n",
      "Epoch 16/20\n",
      "\u001b[1m1700/1700\u001b[0m \u001b[32m━━━━━━━━━━━━━━━━━━━━\u001b[0m\u001b[37m\u001b[0m \u001b[1m1385s\u001b[0m 815ms/step - accuracy: 0.9292 - loss: 0.1932 - val_accuracy: 0.9002 - val_loss: 0.2704 - learning_rate: 1.0000e-04\n",
      "Epoch 17/20\n",
      "\u001b[1m1700/1700\u001b[0m \u001b[32m━━━━━━━━━━━━━━━━━━━━\u001b[0m\u001b[37m\u001b[0m \u001b[1m1386s\u001b[0m 815ms/step - accuracy: 0.9331 - loss: 0.1777 - val_accuracy: 0.9254 - val_loss: 0.1921 - learning_rate: 1.0000e-04\n",
      "Epoch 18/20\n",
      "\u001b[1m1700/1700\u001b[0m \u001b[32m━━━━━━━━━━━━━━━━━━━━\u001b[0m\u001b[37m\u001b[0m \u001b[1m1436s\u001b[0m 844ms/step - accuracy: 0.9406 - loss: 0.1594 - val_accuracy: 0.9464 - val_loss: 0.1351 - learning_rate: 1.0000e-04\n",
      "Epoch 19/20\n",
      "\u001b[1m1700/1700\u001b[0m \u001b[32m━━━━━━━━━━━━━━━━━━━━\u001b[0m\u001b[37m\u001b[0m \u001b[1m1477s\u001b[0m 869ms/step - accuracy: 0.9411 - loss: 0.1591 - val_accuracy: 0.9294 - val_loss: 0.1856 - learning_rate: 1.0000e-04\n",
      "Epoch 20/20\n",
      "\u001b[1m1700/1700\u001b[0m \u001b[32m━━━━━━━━━━━━━━━━━━━━\u001b[0m\u001b[37m\u001b[0m \u001b[1m1430s\u001b[0m 841ms/step - accuracy: 0.9447 - loss: 0.1439 - val_accuracy: 0.9191 - val_loss: 0.2153 - learning_rate: 1.0000e-04\n"
     ]
    }
   ],
   "source": [
    "print(\"Training ResNet Model...\")\n",
    "resnet_model = build_resnet()\n",
    "history_resnet = resnet_model.fit(\n",
    "    train_gen,\n",
    "    validation_data=val_gen,\n",
    "    epochs=20,\n",
    "    callbacks=[checkpoint_resnet, early_stopping, reduce_lr],\n",
    "    verbose=1\n",
    ")"
   ]
  },
  {
   "cell_type": "code",
   "execution_count": 26,
   "id": "f9fe6496-7706-4068-8d17-5b06f2a0f2c1",
   "metadata": {},
   "outputs": [
    {
     "data": {
      "image/png": "[encoded data removed]",
      "text/plain": [
       "<Figure size 800x500 with 1 Axes>"
      ]
     },
     "metadata": {},
     "output_type": "display_data"
    }
   ],
   "source": [
    "plt.figure(figsize=(8, 5))\n",
    "plt.plot(history_cnn.history['val_accuracy'], label='CNN Validation Accuracy', linestyle='--')\n",
    "plt.plot(history_resnet.history['val_accuracy'], label='ResNet Validation Accuracy', linestyle=':')\n",
    "plt.title('Validation Accuracy Comparison')\n",
    "plt.xlabel('Epochs')\n",
    "plt.ylabel('Accuracy')\n",
    "plt.legend()\n",
    "plt.savefig('accuracy_comparison_graph.png')\n",
    "plt.show()"
   ]
  },
  {
   "cell_type": "code",
   "execution_count": 28,
   "id": "2e987340-80cb-4698-af8e-483a66225d93",
   "metadata": {},
   "outputs": [
    {
     "data": {
      "image/png": "[encoded data removed]",
      "text/plain": [
       "<Figure size 800x500 with 1 Axes>"
      ]
     },
     "metadata": {},
     "output_type": "display_data"
    }
   ],
   "source": [
    "plt.figure(figsize=(8, 5))\n",
    "plt.plot(history_cnn.history['val_loss'], label='CNN Validation Loss', linestyle='--')\n",
    "plt.plot(history_resnet.history['val_loss'], label='ResNet Validation Loss', linestyle=':')\n",
    "plt.title('Validation Loss Comparison')\n",
    "plt.xlabel('Epochs')\n",
    "plt.ylabel('Loss')\n",
    "plt.legend()\n",
    "plt.savefig('loss_comparison_graph.png')\n",
    "plt.show()\n"
   ]
  },
  {
   "cell_type": "code",
   "execution_count": 30,
   "id": "396ad301-1880-4e00-b579-1204ccec7d22",
   "metadata": {},
   "outputs": [
    {
     "name": "stdout",
     "output_type": "stream",
     "text": [
      "\n",
      "Model Comparison Table:\n",
      "    Model  Final Validation Accuracy  Final Validation Loss\n",
      "0     CNN                   0.557681               0.976004\n",
      "1  ResNet                   0.946439               0.135121\n"
     ]
    },
    {
     "data": {
      "image/png": "[encoded data removed]",
      "text/plain": [
       "<Figure size 600x300 with 2 Axes>"
      ]
     },
     "metadata": {},
     "output_type": "display_data"
    }
   ],
   "source": [
    "results = {\n",
    "    \"Model\": [\"CNN\", \"ResNet\"],\n",
    "    \"Final Validation Accuracy\": [\n",
    "        max(history_cnn.history['val_accuracy']),\n",
    "        max(history_resnet.history['val_accuracy'])\n",
    "    ],\n",
    "    \"Final Validation Loss\": [\n",
    "        min(history_cnn.history['val_loss']),\n",
    "        min(history_resnet.history['val_loss'])\n",
    "    ]\n",
    "}\n",
    "\n",
    "results_df = pd.DataFrame(results)\n",
    "print(\"\\nModel Comparison Table:\")\n",
    "print(results_df)\n",
    "\n",
    "# Heatmap for visual comparison\n",
    "plt.figure(figsize=(6, 3))\n",
    "sns.heatmap(results_df.set_index(\"Model\"), annot=True, cmap='Blues', fmt='.4f')\n",
    "plt.title('Model Performance Comparison')\n",
    "plt.show()\n"
   ]
  },
  {
   "cell_type": "markdown",
   "id": "40f228c7-efd0-46dc-869d-fceaaa7de924",
   "metadata": {},
   "source": [
    "**GUI**"
   ]
  },
  {
   "cell_type": "markdown",
   "id": "552f3d21-c8f7-4778-81eb-a15bb22b89a6",
   "metadata": {},
   "source": [
    "No need torun above codes since already CNN and ResNet Model has been saved in the local system"
   ]
  },
  {
   "cell_type": "code",
   "execution_count": 33,
   "id": "79c7bca5-1802-4d2a-8fc4-04cbe56de375",
   "metadata": {},
   "outputs": [],
   "source": [
    "import tkinter as tk\n",
    "from tkinter import filedialog, messagebox, ttk\n",
    "import pandas as pd\n",
    "import os\n",
    "from PIL import Image, ImageTk\n",
    "import numpy as np\n",
    "from tensorflow.keras.preprocessing.image import load_img, img_to_array\n",
    "from tensorflow.keras.models import load_model\n"
   ]
  },
  {
   "cell_type": "code",
   "execution_count": 35,
   "id": "a36827e4-e2c8-4591-be72-c116351c8ee8",
   "metadata": {},
   "outputs": [],
   "source": [
    "class AlzheimerDetectionApp:\n",
    "    def __init__(self, root):\n",
    "        self.root = root\n",
    "        self.root.title(\"Alzheimer Detection System\")\n",
    "        self.root.geometry(\"1200x800\")\n",
    "        self.root.configure(bg=\"#f8f9fa\")\n",
    "        \n",
    "        # Get the current working directory\n",
    "        self.current_directory = os.getcwd()\n",
    "\n",
    "        # Model file paths relative to current directory\n",
    "        self.cnn_model_path = os.path.join(self.current_directory, \"cnn_model.keras\")\n",
    "        self.resnet_model_path = os.path.join(self.current_directory, \"resnet_model.keras\")\n",
    "        \n",
    "        self.home_page()\n",
    "    \n",
    "    def clear_frame(self):\n",
    "        \"\"\"Clears all widgets from the main frame.\"\"\"\n",
    "        for widget in self.root.winfo_children():\n",
    "            widget.destroy()\n",
    "\n",
    "    def nav_bar_home(self):\n",
    "        \"\"\"Creates the home page navigation bar with brand name only.\"\"\"\n",
    "        nav_frame = tk.Frame(self.root, bg=\"#007bff\", height=50)\n",
    "        nav_frame.pack(side=\"top\", fill=\"x\")\n",
    "\n",
    "        brand_label = tk.Label(nav_frame, text=\"Alzheimer Detection System\", font=(\"Helvetica\", 16, \"bold\"), fg=\"white\", bg=\"#007bff\")\n",
    "        brand_label.pack(side=\"left\", padx=20)\n",
    "\n",
    "    def nav_bar(self):\n",
    "        \"\"\"Creates the detection and reports navigation bar.\"\"\"\n",
    "        nav_frame = tk.Frame(self.root, bg=\"#007bff\", height=50)\n",
    "        nav_frame.pack(side=\"top\", fill=\"x\")\n",
    "\n",
    "        brand_label = tk.Label(nav_frame, text=\"Alzheimer Detection System\", font=(\"Helvetica\", 16, \"bold\"), fg=\"white\", bg=\"#007bff\")\n",
    "        brand_label.pack(side=\"left\", padx=20)\n",
    "\n",
    "        self.add_nav_button(nav_frame, \"Detection\", self.detection_page)\n",
    "        self.add_nav_button(nav_frame, \"Reports\", self.reports_page)\n",
    "        self.add_nav_button(nav_frame, \"Logout\", self.home_page)\n",
    "\n",
    "    def footer(self):\n",
    "        \"\"\"Creates the footer.\"\"\"\n",
    "        footer_frame = tk.Frame(self.root, bg=\"#e9ecef\", height=40)\n",
    "        footer_frame.pack(side=\"bottom\", fill=\"x\")\n",
    "        footer_label = tk.Label(footer_frame, text=\"© 2025 Alzheimer Detection System\", font=(\"Helvetica\", 12), bg=\"#e9ecef\")\n",
    "        footer_label.pack()\n",
    "\n",
    "    def add_nav_button(self, parent, text, command):\n",
    "        \"\"\"Adds buttons to the navbar.\"\"\"\n",
    "        btn = tk.Button(parent, text=text, font=(\"Helvetica\", 12, \"bold\"), bg=\"#007bff\", fg=\"white\", bd=0, command=command)\n",
    "        btn.pack(side=\"right\", padx=10)\n",
    "\n",
    "    def home_page(self):\n",
    "        \"\"\"Home page with welcome button.\"\"\"\n",
    "        self.clear_frame()\n",
    "        self.nav_bar_home()\n",
    "\n",
    "        body_frame = tk.Frame(self.root, bg=\"#f8f9fa\", pady=20)\n",
    "        body_frame.pack(expand=True, fill=\"both\")\n",
    "\n",
    "        welcome_label = tk.Label(body_frame, text=\"Welcome to the Alzheimer Detection System!\", font=(\"Helvetica\", 24, \"bold\"), bg=\"#f8f9fa\")\n",
    "        welcome_label.pack(pady=20)\n",
    "\n",
    "        about_text = (\n",
    "            \"This application helps healthcare professionals and researchers \"\n",
    "            \"by providing a powerful tool for early-stage Alzheimer’s detection using MRI images. \"\n",
    "            \"By identifying potential cases earlier, it aids in effective medical interventions, \"\n",
    "            \"improving patient outcomes and supporting research studies.\"\n",
    "        )\n",
    "        about_label = tk.Label(body_frame, text=about_text, font=(\"Helvetica\", 14), wraplength=900, justify=\"center\", bg=\"#f8f9fa\")\n",
    "        about_label.pack(pady=20)\n",
    "\n",
    "        welcome_btn = tk.Button(body_frame, text=\"Get Started\", font=(\"Helvetica\", 16, \"bold\"), bg=\"#00cc99\", fg=\"white\", padx=20, pady=10, command=self.detection_page)\n",
    "        welcome_btn.pack(pady=40)\n",
    "\n",
    "        self.footer()\n",
    "\n",
    "    def detection_page(self):\n",
    "        \"\"\"Detection page for patient details and image upload.\"\"\"\n",
    "        self.clear_frame()\n",
    "        self.nav_bar()\n",
    "\n",
    "        main_frame = tk.Frame(self.root, bg=\"#f8f9fa\")\n",
    "        main_frame.pack(expand=True, fill=\"both\", padx=20, pady=20)\n",
    "\n",
    "        # Left Frame: Form\n",
    "        form_frame = tk.Frame(main_frame, bg=\"#e6f7ff\", padx=20, pady=20)\n",
    "        form_frame.pack(side=\"left\", fill=\"y\", padx=20)\n",
    "\n",
    "        tk.Label(form_frame, text=\"Enter Patient Details:\", font=(\"Helvetica\", 16, \"bold\"), bg=\"#e6f7ff\").pack(pady=10)\n",
    "\n",
    "        self.name_var = tk.StringVar()\n",
    "        self.age_var = tk.StringVar()\n",
    "        self.contact_var = tk.StringVar()\n",
    "        self.address_var = tk.StringVar()\n",
    "        self.remarks_var = tk.StringVar()\n",
    "        self.model_choice = tk.StringVar(value=\"CNN\")\n",
    "        self.predicted_stage = None  # Variable to hold predicted stage\n",
    "\n",
    "        self.create_input_row(form_frame, \"Name:\", self.name_var)\n",
    "        self.create_input_row(form_frame, \"Age:\", self.age_var)\n",
    "        self.create_input_row(form_frame, \"Contact:\", self.contact_var)\n",
    "        self.create_input_row(form_frame, \"Address:\", self.address_var)\n",
    "        self.create_input_row(form_frame, \"Remarks:\", self.remarks_var)\n",
    "\n",
    "        tk.Label(form_frame, text=\"Select Model:\", font=(\"Helvetica\", 12), bg=\"#e6f7ff\").pack(pady=10)\n",
    "        tk.Radiobutton(form_frame, text=\"CNN\", variable=self.model_choice, value=\"CNN\", font=(\"Helvetica\", 12), bg=\"#e6f7ff\").pack()\n",
    "        tk.Radiobutton(form_frame, text=\"ResNet\", variable=self.model_choice, value=\"ResNet\", font=(\"Helvetica\", 12), bg=\"#e6f7ff\").pack()\n",
    "\n",
    "        # Upload button\n",
    "        self.upload_btn = tk.Button(form_frame, text=\"Upload MRI\", font=(\"Helvetica\", 14), bg=\"#00cc99\", fg=\"white\", command=self.upload_image)\n",
    "        self.upload_btn.pack(pady=20)\n",
    "\n",
    "        # Right Frame: Image and Prediction\n",
    "        self.display_frame = tk.Frame(main_frame, bg=\"#f8f9fa\")\n",
    "        self.display_frame.pack(side=\"right\", expand=True, fill=\"both\", padx=20)\n",
    "\n",
    "        self.footer()\n",
    "\n",
    "    def create_input_row(self, parent, label_text, var):\n",
    "        \"\"\"Creates a row for input fields.\"\"\"\n",
    "        row_frame = tk.Frame(parent, bg=\"#e6f7ff\")\n",
    "        row_frame.pack(pady=5)\n",
    "        tk.Label(row_frame, text=label_text, font=(\"Helvetica\", 12), bg=\"#e6f7ff\").pack(side=\"left\", padx=10)\n",
    "        tk.Entry(row_frame, textvariable=var, font=(\"Helvetica\", 12), width=30).pack(side=\"left\")\n",
    "\n",
    "    def upload_image(self):\n",
    "        \"\"\"Handles image upload and prediction.\"\"\"\n",
    "        file_path = filedialog.askopenfilename(filetypes=[('Image Files', '*.jpg;*.png')])\n",
    "        if not file_path:\n",
    "            return\n",
    "\n",
    "        for widget in self.display_frame.winfo_children():\n",
    "            widget.destroy()\n",
    "\n",
    "        uploaded_img = Image.open(file_path)\n",
    "        uploaded_img.thumbnail((300, 300))\n",
    "        img = ImageTk.PhotoImage(uploaded_img)\n",
    "\n",
    "        image_label = tk.Label(self.display_frame, image=img, bg=\"#f8f9fa\")\n",
    "        image_label.image = img\n",
    "        image_label.pack(pady=10)\n",
    "\n",
    "        result, confidence = self.predict_image(self.model_choice.get(), file_path)\n",
    "        self.predicted_stage = result  # Store predicted stage\n",
    "        prediction_label = tk.Label(self.display_frame, text=f\"Prediction: {result} ({confidence * 100:.2f}%)\", font=(\"Helvetica\", 14, \"bold\"), bg=\"#f8f9fa\")\n",
    "        prediction_label.pack(pady=10)\n",
    "\n",
    "        # Save button appears after prediction\n",
    "        save_btn = tk.Button(self.display_frame, text=\"Save Details\", font=(\"Helvetica\", 14), bg=\"#3366cc\", fg=\"white\", command=self.save_data)\n",
    "        save_btn.pack(pady=10)\n",
    "\n",
    "    def predict_image(self, model_choice, image_path):\n",
    "        \"\"\"Predicts Alzheimer's stage using selected model.\"\"\"\n",
    "        img = load_img(image_path, target_size=(64, 64))\n",
    "        img_array = img_to_array(img) / 255.0\n",
    "        img_array = np.expand_dims(img_array, axis=0)\n",
    "\n",
    "        # Load model based on user selection\n",
    "        if model_choice == \"CNN\":\n",
    "            if not os.path.exists(self.cnn_model_path):\n",
    "                messagebox.showerror(\"Error\", \"CNN model file not found!\")\n",
    "                return \"Error\", 0.0\n",
    "            model = load_model(self.cnn_model_path)\n",
    "        else:\n",
    "            if not os.path.exists(self.resnet_model_path):\n",
    "                messagebox.showerror(\"Error\", \"ResNet model file not found!\")\n",
    "                return \"Error\", 0.0\n",
    "            model = load_model(self.resnet_model_path)\n",
    "\n",
    "        predictions = model.predict(img_array)\n",
    "        class_idx = np.argmax(predictions)\n",
    "        class_labels = ['Mild Demented', 'Moderate Demented', 'Non Demented', 'Very Mild Demented']\n",
    "        return class_labels[class_idx], np.max(predictions)\n",
    "\n",
    "    def save_data(self):\n",
    "        \"\"\"Saves patient details and prediction result to CSV.\"\"\"\n",
    "        data = {\n",
    "            'Name': self.name_var.get(),\n",
    "            'Age': self.age_var.get(),\n",
    "            'Contact': self.contact_var.get(),\n",
    "            'Address': self.address_var.get(),\n",
    "            'Remarks': self.remarks_var.get(),\n",
    "            'Prediction': self.predicted_stage\n",
    "        }\n",
    "\n",
    "        if not os.path.exists('patient_records.csv'):\n",
    "            df = pd.DataFrame(columns=data.keys())\n",
    "            df.to_csv('patient_records.csv', index=False)\n",
    "\n",
    "        df = pd.read_csv('patient_records.csv')\n",
    "        df = pd.concat([df, pd.DataFrame([data])], ignore_index=True)\n",
    "        df.to_csv('patient_records.csv', index=False)\n",
    "        messagebox.showinfo('Success', 'Patient data saved successfully!')\n",
    "\n",
    "        # Clear input fields\n",
    "        self.clear_input_fields()\n",
    "\n",
    "    def clear_input_fields(self):\n",
    "        \"\"\"Clears all the input fields after saving.\"\"\"\n",
    "        self.name_var.set(\"\")\n",
    "        self.age_var.set(\"\")\n",
    "        self.contact_var.set(\"\")\n",
    "        self.address_var.set(\"\")\n",
    "        self.remarks_var.set(\"\")\n",
    "\n",
    "    def reports_page(self):\n",
    "        \"\"\"Reports page to display saved records.\"\"\"\n",
    "        self.clear_frame()\n",
    "        self.nav_bar()\n",
    "\n",
    "        frame = tk.Frame(self.root, bg=\"#f8f9fa\")\n",
    "        frame.pack(expand=True, fill=\"both\")\n",
    "\n",
    "        tk.Label(frame, text=\"Patient Records\", font=(\"Helvetica\", 18, \"bold\"), bg=\"#f8f9fa\").pack(pady=20)\n",
    "\n",
    "        if os.path.exists('patient_records.csv'):\n",
    "            df = pd.read_csv('patient_records.csv')\n",
    "            columns = list(df.columns)\n",
    "\n",
    "            # Treeview table\n",
    "            table = ttk.Treeview(frame, columns=columns, show='headings')\n",
    "            for col in columns:\n",
    "                table.heading(col, text=col)\n",
    "                table.column(col, width=200)\n",
    "            for _, row in df.iterrows():\n",
    "                table.insert(\"\", \"end\", values=list(row))\n",
    "            table.pack(expand=True, fill=\"both\")\n",
    "        else:\n",
    "            tk.Label(frame, text=\"No records found!\", font=(\"Helvetica\", 14), bg=\"#f8f9fa\").pack(pady=20)\n",
    "\n",
    "        self.footer()\n"
   ]
  },
  {
   "cell_type": "code",
   "execution_count": 37,
   "id": "5b66276c-e411-4683-a68a-63722615bbf4",
   "metadata": {},
   "outputs": [
    {
     "name": "stdout",
     "output_type": "stream",
     "text": [
      "\u001b[1m1/1\u001b[0m \u001b[32m━━━━━━━━━━━━━━━━━━━━\u001b[0m\u001b[37m\u001b[0m \u001b[1m4s\u001b[0m 4s/step\n",
      "\u001b[1m1/1\u001b[0m \u001b[32m━━━━━━━━━━━━━━━━━━━━\u001b[0m\u001b[37m\u001b[0m \u001b[1m5s\u001b[0m 5s/step\n",
      "\u001b[1m1/1\u001b[0m \u001b[32m━━━━━━━━━━━━━━━━━━━━\u001b[0m\u001b[37m\u001b[0m \u001b[1m5s\u001b[0m 5s/step\n"
     ]
    }
   ],
   "source": [
    "if __name__ == \"__main__\":\n",
    "    root = tk.Tk()\n",
    "    app = AlzheimerDetectionApp(root)\n",
    "    root.mainloop()\n"
   ]
  },
  {
   "cell_type": "code",
   "execution_count": null,
   "id": "0fa3f15c-3ad4-41a1-8b32-a12e77cc1835",
   "metadata": {},
   "outputs": [],
   "source": []
  }
 ],
 "metadata": {
  "kernelspec": {
   "display_name": "Python 3 (ipykernel)",
   "language": "python",
   "name": "python3"
  },
  "language_info": {
   "codemirror_mode": {
    "name": "ipython",
    "version": 3
   },
   "file_extension": ".py",
   "mimetype": "text/x-python",
   "name": "python",
   "nbconvert_exporter": "python",
   "pygments_lexer": "ipython3",
   "version": "3.12.4"
  }
 },
 "nbformat": 4,
 "nbformat_minor": 5
}
